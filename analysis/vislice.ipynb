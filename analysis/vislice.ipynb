{
 "cells": [
  {
   "cell_type": "markdown",
   "metadata": {},
   "source": [
    "# Vislice\n",
    "V tej nalogi si bomo pogledali slovenske samostalnike s strani igranja igre vislice. Pogledali si bomo predvsem kako izgledajo optimalne strategije in kakšne besede\n",
    "so vsaj v teoriji najtežje.\n",
    "\n",
    "Po izbiri pripravite pythonovo virtualno okolje. Preden uporabljate katerekoli programe v tem repozitoriju, poženite naslednje ukaze:"
   ]
  },
  {
   "cell_type": "code",
   "execution_count": null,
   "metadata": {
    "vscode": {
     "languageId": "shellscript"
    }
   },
   "outputs": [],
   "source": [
    "!cd ..\n",
    "!pip install -r requirements.txt\n",
    "!python ./data/get_lf_no_lfs.py"
   ]
  },
  {
   "cell_type": "markdown",
   "metadata": {},
   "source": [
    "\n",
    "## Natančnejši opis problema\n",
    "### Pravila igre\n",
    "V splošnem se igro igrata dve osebi. Ena oseba si izmisli besedo, druga pa ugiba črke. Vsakič ko črko pravilno ugotovi, se črko zapiše na njena mesta v besedi.\n",
    "Če beseda ugibane črke ne vsebuje, oseba ki ugiba izgubi življenje. To se ponavadi označi tako, da druga oseba nariše eno črto na skico obešenega človeka.\n",
    "Ko je slika končana, je igre konec in zmaga tisti, ki si je besedo izmislil. Če ugotovi vse črke v besedi, zmaga tisti, ki ugiba.\n",
    "\n",
    "To je splošen opis igre, ki še vedno dopušča mnogo variacij. Za potrebe te naloge se bomo odločili za nekaj točnejših pravil:\n",
    "* Izbrana beseda je na seznamu besed, ki je znan vnaprej, to so vsi samostalniki iz SSKJ, ki vsebujejo le črke slovenske abecede. Shranjeni so v `data/nouns_si.txt`.\n",
    "* Male in velike črke uporabljamo za iste črke.\n",
    "* Ko ugibamo, na začetku poznamo dolžino besede, prvo črko in kje vse se ta črka ponovi.\n",
    "* Z vidika naloge je število poskusov ko lahko ugibamo nepomembno, zato števila življenj ne bomo določili.\n",
    "\n",
    "### Optimalna strategija\n",
    "Kaj je optimalna se lahko spreminja glede na naše potrebe. Za naše potrebe bomo iskali takšno optimalno strategijo:\n",
    "* Z vsako strategijo bomo pri eni ali več besedah porabili največje število življenj. Če ugibamo to besedo je to najslabši možen primer.\n",
    "* Strategija je optimalna, če ima v primerjavi z ostalimi strategijami po njihovih najslabših možnih primerih najmanjše število porabljenih življenj.\n",
    "* Opazovali bomo samo najslabši možen primer. Če imata dve strategiji enako slab najslabši primer, sta enako dobri. Tudi če ena od strategij vse ostale besede reši\n",
    "z manj izgubljenimi življenji, sta še vedno enako dobri.\n",
    "* Za strategijo nas zanima število izgubljenih življenj da uganemo besedo v najslabšem možnem primeru. Zato v pravilih ni smiselno določiti po koliko napakah je igre konec.\n",
    "* Optimalnih strategij je lahko več. Ponavadi jih je celo zelo veliko. \n",
    "(Če imamo \"se_\" - prvi črki sta \"s\" in \"e\", ugibamo še tretjo, potem imamo na voljo 10 črk ki dajo besedo in 3628800 različnih strategij)\n",
    "\n",
    "### Seznam besed\n",
    "Vir besed je stran [https://fran.si/iskanje?FilteredDictionaryIds=130&View=1&Query=%2A](https://fran.si/iskanje?FilteredDictionaryIds=130&View=1&Query=%2A). \n",
    "Program `collector/sskj_collector.py` prebere število strani z besedami in pobere besede z vsake izmed njih. Ima tudi možnost, da se omeji samo na samostalnike.\n",
    "Potem popravi še vsa naglasna znamenja v navadne črke in pobriše besede ki ne vsebujejo samo slovenskih črk. Na koncu jih uredi po slovenski abecedi.\n",
    "\n",
    "Besede so že shranjene v datoteki [data/nouns_si.txt](../data/nouns_si.txt), zato jih ni potrebno ponovno nalagati.\n",
    "Če želite pognati pobiranje besed lahko to storite s pomočjo skripte z ukazom (postopek traja, ker prebere več kot 4600 strani):"
   ]
  },
  {
   "cell_type": "code",
   "execution_count": null,
   "metadata": {
    "vscode": {
     "languageId": "shellscript"
    }
   },
   "outputs": [],
   "source": [
    "%run vislice.py sskjcollect --help\n",
    "%run vislice.py sskjcollect --file data/samostalniki.txt --nounsonly"
   ]
  },
  {
   "cell_type": "markdown",
   "metadata": {},
   "source": [
    "## Izračun optimalne strategije\n",
    "Glede na podan seznam besed program `solver/game.py` izračuna najboljšo možno strategijo tako, da sledi korakom:\n",
    "* Če se v že ugibanih črkah besede ne ujemajo, jih razdelimo na skupine, tako da glede na te črke izgledajo enako. Za vsako skupino izračunamo strategijo posebej in naša strategija ima\n",
    "toliko napak kot jih ima skupina z največ napakami.\n",
    "* Če smo besedo uganili, smo zanjo že zmagali. Strategija ima 0 korakov in naredimo 0 napak.\n",
    "* Če si vse možne besede delijo kakšno črko, ugibamo te črke. Besede razdelimo v skupine, tako da imajo ugibane črke na istih mestih in za vsako od dobljenih skupin\n",
    "izračunamo najboljšo strategijo. Strategija ima toliko napak kot skupina z največ napakami.\n",
    "* Za vsako črko, ki je še nismo ugibali, od najbolj do najmanj pogoste poskusimo:\n",
    "    - Besede razdelimo v skupine, tako da se ujemajo v vseh do zdaj ugibanih črkah in v tej izbrani črki.\n",
    "    - Izračunamo strategijo za vse skupine. Če besede v tej skupini ne vsebujejo izbrane črke, ima skupina eno napako več kot njena strategija.\n",
    "    Če besede v skupini vsebujejo črko, ima skupina toliko napak kot ima napak njena strategija.\n",
    "    - Za najboljšo strategijo vzamemo črko, ki ima pri najslabši skupini najmanjše število napak.\n",
    "Na koncu dobimo eno izmed najboljših strategij. Strategija je že izračunana in shranjena v [data/nouns_si_strategy_hinted.json](../data/nouns_si_strategy_hinted.json)\n",
    "\n",
    "Če želite poračunati strategijo lahko to storite s pomočjo ukaza spodaj. (Zelo traja - lahko tudi več kot 8 ur, poraba pomnilnika je do 3 GB.) Spremenite `data/nouns_si.txt`, če želite drug seznam besed."
   ]
  },
  {
   "cell_type": "code",
   "execution_count": null,
   "metadata": {
    "vscode": {
     "languageId": "shellscript"
    }
   },
   "outputs": [],
   "source": [
    "%run vislice.py hintstrat --help\n",
    "%run vislice.py hintstrat data/nouns_si.txt --output data/strategija.json"
   ]
  },
  {
   "cell_type": "code",
   "execution_count": null,
   "metadata": {
    "vscode": {
     "languageId": "shellscript"
    }
   },
   "outputs": [],
   "source": []
  }
 ],
 "metadata": {
  "kernelspec": {
   "display_name": "venv",
   "language": "python",
   "name": "python3"
  },
  "language_info": {
   "codemirror_mode": {
    "name": "ipython",
    "version": 3
   },
   "file_extension": ".py",
   "mimetype": "text/x-python",
   "name": "python",
   "nbconvert_exporter": "python",
   "pygments_lexer": "ipython3",
   "version": "3.12.0"
  }
 },
 "nbformat": 4,
 "nbformat_minor": 2
}
