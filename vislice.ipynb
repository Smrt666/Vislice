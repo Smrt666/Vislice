{
 "cells": [
  {
   "cell_type": "markdown",
   "metadata": {},
   "source": [
    "# Vislice\n",
    "V tej nalogi si bomo pogledali slovenske samostalnike s strani igranja igre vislice. Pogledali si bomo predvsem kako izgledajo optimalne strategije in kakšne besede\n",
    "so vsaj v teoriji najtežje.\n",
    "\n",
    "Po izbiri pripravite pythonovo virtualno okolje. Preden uporabljate katerekoli programe v tem repozitoriju, poženite naslednje ukaze:"
   ]
  },
  {
   "cell_type": "code",
   "execution_count": null,
   "metadata": {
    "vscode": {
     "languageId": "shellscript"
    }
   },
   "outputs": [],
   "source": [
    "!pip install -r requirements.txt\n",
    "!python data/get_lf_no_lfs.py"
   ]
  },
  {
   "cell_type": "markdown",
   "metadata": {},
   "source": [
    "\n",
    "## Natančnejši opis problema\n",
    "### Pravila igre\n",
    "V splošnem se igro igrata dve osebi. Ena oseba si izmisli besedo, druga pa ugiba črke. Vsakič ko črko pravilno ugotovi, se črko zapiše na njena mesta v besedi.\n",
    "Če beseda ugibane črke ne vsebuje, oseba ki ugiba izgubi življenje. To se ponavadi označi tako, da druga oseba nariše eno črto na skico obešenega človeka.\n",
    "Ko je slika končana, je igre konec in zmaga tisti, ki si je besedo izmislil. Če ugotovi vse črke v besedi, zmaga tisti, ki ugiba.\n",
    "\n",
    "To je splošen opis igre, ki še vedno dopušča mnogo variacij. Za potrebe te naloge se bomo odločili za nekaj točnejših pravil:\n",
    "* Izbrana beseda je na seznamu besed, ki je znan vnaprej, to so vsi samostalniki iz SSKJ, ki vsebujejo le črke slovenske abecede. Shranjeni so v `data/nouns_si.txt`.\n",
    "* Male in velike črke uporabljamo za iste črke.\n",
    "* Ko ugibamo, na začetku poznamo dolžino besede, prvo črko in kje vse se ta črka ponovi.\n",
    "* Z vidika naloge je število poskusov ko lahko ugibamo nepomembno, zato števila življenj ne bomo določili.\n",
    "\n",
    "### Optimalna strategija\n",
    "Kaj je optimalna se lahko spreminja glede na naše potrebe. Za naše potrebe bomo iskali takšno optimalno strategijo:\n",
    "* Z vsako strategijo bomo pri eni ali več besedah porabili največje število življenj. Če ugibamo to besedo je to najslabši možen primer.\n",
    "* Strategija je optimalna, če ima v primerjavi z ostalimi strategijami po njihovih najslabših možnih primerih najmanjše število porabljenih življenj.\n",
    "* Opazovali bomo samo najslabši možen primer. Če imata dve strategiji enako slab najslabši primer, sta enako dobri. Tudi če ena od strategij vse ostale besede reši\n",
    "z manj izgubljenimi življenji, sta še vedno enako dobri.\n",
    "* Za strategijo nas zanima število izgubljenih življenj da uganemo besedo v najslabšem možnem primeru. Zato v pravilih ni smiselno določiti po koliko napakah je igre konec.\n",
    "* Optimalnih strategij je lahko več. Ponavadi jih je celo zelo veliko. \n",
    "(Če imamo \"se_\" - prvi črki sta \"s\" in \"e\", ugibamo še tretjo, potem imamo na voljo 10 črk ki dajo besedo in 3628800 različnih strategij)\n",
    "\n",
    "### Seznam besed\n",
    "Vir besed je stran [https://fran.si/iskanje?FilteredDictionaryIds=130&View=1&Query=%2A](https://fran.si/iskanje?FilteredDictionaryIds=130&View=1&Query=%2A). \n",
    "Program `src/collector/sskj_collector.py` prebere število strani z besedami in pobere besede z vsake izmed njih. Ima tudi možnost, da se omeji samo na samostalnike.\n",
    "Potem popravi še vsa naglasna znamenja v navadne črke in pobriše besede ki ne vsebujejo samo slovenskih črk. Na koncu jih uredi po slovenski abecedi.\n",
    "\n",
    "Besede so že shranjene v datoteki [data/nouns_si.txt](../data/nouns_si.txt), zato jih ni potrebno ponovno nalagati.\n",
    "Če želite pognati pobiranje besed lahko to storite s pomočjo skripte z ukazom (postopek traja, ker prebere več kot 4600 strani):"
   ]
  },
  {
   "cell_type": "code",
   "execution_count": 115,
   "metadata": {
    "vscode": {
     "languageId": "shellscript"
    }
   },
   "outputs": [
    {
     "name": "stdout",
     "output_type": "stream",
     "text": [
      "usage: vislice.py sskjcollect [-h] [--limit LIMIT] [--threads THREADS]\n",
      "                              [--noprogress] [--file FILE] [--raw]\n",
      "                              [--nounsonly]\n",
      "\n",
      "options:\n",
      "  -h, --help         show this help message and exit\n",
      "  --limit LIMIT      limit the number of pages to collect words from (default:\n",
      "                     all)\n",
      "  --threads THREADS  maximum number of threads to use (default: 100)\n",
      "  --noprogress       show progress while collecting words (default)\n",
      "  --file FILE        file to save words to (default: data/sskj_words.txt)\n",
      "  --raw              by default it removes accents, special characters, ...\n",
      "  --nounsonly        collect only nouns\n"
     ]
    }
   ],
   "source": [
    "%run vislice.py sskjcollect --help"
   ]
  },
  {
   "cell_type": "code",
   "execution_count": null,
   "metadata": {
    "vscode": {
     "languageId": "shellscript"
    }
   },
   "outputs": [],
   "source": [
    "%run vislice.py sskjcollect --file data/samostalniki.txt --nounsonly"
   ]
  },
  {
   "cell_type": "markdown",
   "metadata": {},
   "source": [
    "### Izračun optimalne strategije\n",
    "Glede na podan seznam besed program `src/solver/game.py` izračuna najboljšo možno strategijo tako, da sledi korakom:\n",
    "* Če se v že ugibanih črkah besede ne ujemajo, jih razdelimo na skupine, tako da glede na te črke izgledajo enako. Za vsako skupino izračunamo strategijo posebej in naša strategija ima\n",
    "toliko napak kot jih ima skupina z največ napakami.\n",
    "* Če smo besedo uganili, smo zanjo že zmagali. Strategija ima 0 korakov in naredimo 0 napak.\n",
    "* Če si vse možne besede delijo kakšno črko, ugibamo te črke. Besede razdelimo v skupine, tako da imajo ugibane črke na istih mestih in za vsako od dobljenih skupin\n",
    "izračunamo najboljšo strategijo. Strategija ima toliko napak kot skupina z največ napakami.\n",
    "* Za vsako črko, ki je še nismo ugibali, od najbolj do najmanj pogoste poskusimo:\n",
    "    - Besede razdelimo v skupine, tako da se ujemajo v vseh do zdaj ugibanih črkah in v tej izbrani črki.\n",
    "    - Izračunamo strategijo za vse skupine. Če besede v tej skupini ne vsebujejo izbrane črke, ima skupina eno napako več kot njena strategija.\n",
    "    Če besede v skupini vsebujejo črko, ima skupina toliko napak kot ima napak njena strategija.\n",
    "    - Za najboljšo strategijo vzamemo črko, ki ima pri najslabši skupini najmanjše število napak.\n",
    "Na koncu dobimo eno izmed najboljših strategij. Strategija je že izračunana in shranjena v [data/nouns_si_strategy_hinted.json](../data/nouns_si_strategy_hinted.json)\n",
    "\n",
    "Če želite poračunati strategijo lahko to storite s pomočjo ukaza spodaj. (Zelo traja - lahko tudi več kot 8 ur, poraba pomnilnika je do 3 GB.) Spremenite `data/nouns_si.txt`, če želite drug seznam besed."
   ]
  },
  {
   "cell_type": "code",
   "execution_count": 116,
   "metadata": {
    "vscode": {
     "languageId": "shellscript"
    }
   },
   "outputs": [
    {
     "name": "stdout",
     "output_type": "stream",
     "text": [
      "usage: vislice.py hintstrat [-h] [--output OUTPUT] [--limit LIMIT] words\n",
      "\n",
      "positional arguments:\n",
      "  words            file with words to find strategy for\n",
      "\n",
      "options:\n",
      "  -h, --help       show this help message and exit\n",
      "  --output OUTPUT  file to save strategy to (default: data/hstrategy.json)\n",
      "  --limit LIMIT    limit the number of words to find strategy for (default:\n",
      "                   all)\n"
     ]
    }
   ],
   "source": [
    "%run vislice.py hintstrat --help"
   ]
  },
  {
   "cell_type": "code",
   "execution_count": null,
   "metadata": {
    "vscode": {
     "languageId": "shellscript"
    }
   },
   "outputs": [],
   "source": [
    "%run vislice.py hintstrat data/nouns_si.txt --output data/strategija.json"
   ]
  },
  {
   "cell_type": "markdown",
   "metadata": {},
   "source": [
    "## Analiza podatkov\n"
   ]
  },
  {
   "cell_type": "code",
   "execution_count": 117,
   "metadata": {},
   "outputs": [],
   "source": [
    "import pandas as pd\n",
    "import json"
   ]
  },
  {
   "cell_type": "code",
   "execution_count": 118,
   "metadata": {},
   "outputs": [],
   "source": [
    "with open(\"data/nouns_si_strategy_hinted.json\", encoding=\"utf-8\") as f:\n",
    "    strategy_object = json.load(f)\n",
    "\n",
    "words = pd.array(strategy_object[\"words\"])\n",
    "strategies = strategy_object[\"strategies\"]"
   ]
  },
  {
   "cell_type": "markdown",
   "metadata": {},
   "source": [
    "Za začetek preberemo seznam dovoljenih besed:"
   ]
  },
  {
   "cell_type": "code",
   "execution_count": 119,
   "metadata": {},
   "outputs": [
    {
     "data": {
      "text/plain": [
       "<StringArray>\n",
       "[        'abak', 'abalienacija',         'abbe',      'abderit',\n",
       "  'abderitstvo',   'abdikacija',      'abdomen',    'abdukcija',\n",
       "      'abeceda',     'abecedar',\n",
       " ...\n",
       "      'žvižgač',    'žvižganje',    'žvižgavec',    'žvižgavka',\n",
       "       'žvokno',   'žvrgolenje',  'žvrgolevček',      'žvrkelj',\n",
       "      'žvrklja',   'žvrkljanje']\n",
       "Length: 49909, dtype: string"
      ]
     },
     "execution_count": 119,
     "metadata": {},
     "output_type": "execute_result"
    }
   ],
   "source": [
    "words"
   ]
  },
  {
   "cell_type": "markdown",
   "metadata": {},
   "source": [
    "Za vsako besedo vzamemo prvo črko in pogledamo kje vse se ponovi. Tako dobimo vzorec, ki mu lahko sledi ena ali več besed. Vsak od takih vzorcev nam predstavlja isto izhodišče za igranje igre. Tukaj se naložijo osnovni podatki za takšne skupine."
   ]
  },
  {
   "cell_type": "code",
   "execution_count": 120,
   "metadata": {},
   "outputs": [
    {
     "data": {
      "text/html": [
       "<div>\n",
       "<style scoped>\n",
       "    .dataframe tbody tr th:only-of-type {\n",
       "        vertical-align: middle;\n",
       "    }\n",
       "\n",
       "    .dataframe tbody tr th {\n",
       "        vertical-align: top;\n",
       "    }\n",
       "\n",
       "    .dataframe thead th {\n",
       "        text-align: right;\n",
       "    }\n",
       "</style>\n",
       "<table border=\"1\" class=\"dataframe\">\n",
       "  <thead>\n",
       "    <tr style=\"text-align: right;\">\n",
       "      <th></th>\n",
       "      <th>pattern</th>\n",
       "      <th>words_count</th>\n",
       "      <th>worst_case_mistakes</th>\n",
       "    </tr>\n",
       "  </thead>\n",
       "  <tbody>\n",
       "    <tr>\n",
       "      <th>0</th>\n",
       "      <td>a _ a _</td>\n",
       "      <td>6</td>\n",
       "      <td>4</td>\n",
       "    </tr>\n",
       "    <tr>\n",
       "      <th>1</th>\n",
       "      <td>a _ a _ _ _ _ a _ _ _ a</td>\n",
       "      <td>1</td>\n",
       "      <td>0</td>\n",
       "    </tr>\n",
       "    <tr>\n",
       "      <th>2</th>\n",
       "      <td>a _ _ _</td>\n",
       "      <td>30</td>\n",
       "      <td>5</td>\n",
       "    </tr>\n",
       "    <tr>\n",
       "      <th>3</th>\n",
       "      <td>a _ _ _ _ _ _</td>\n",
       "      <td>80</td>\n",
       "      <td>3</td>\n",
       "    </tr>\n",
       "    <tr>\n",
       "      <th>4</th>\n",
       "      <td>a _ _ _ _ _ _ _ _ _ _</td>\n",
       "      <td>30</td>\n",
       "      <td>1</td>\n",
       "    </tr>\n",
       "    <tr>\n",
       "      <th>...</th>\n",
       "      <td>...</td>\n",
       "      <td>...</td>\n",
       "      <td>...</td>\n",
       "    </tr>\n",
       "    <tr>\n",
       "      <th>2412</th>\n",
       "      <td>ž _ ž _ _ _ _ _ _ _ _</td>\n",
       "      <td>3</td>\n",
       "      <td>0</td>\n",
       "    </tr>\n",
       "    <tr>\n",
       "      <th>2413</th>\n",
       "      <td>ž _ ž _ _ _ _ _ _</td>\n",
       "      <td>2</td>\n",
       "      <td>0</td>\n",
       "    </tr>\n",
       "    <tr>\n",
       "      <th>2414</th>\n",
       "      <td>ž _ _ ž _</td>\n",
       "      <td>1</td>\n",
       "      <td>0</td>\n",
       "    </tr>\n",
       "    <tr>\n",
       "      <th>2415</th>\n",
       "      <td>ž _ _ ž _ _ _</td>\n",
       "      <td>1</td>\n",
       "      <td>0</td>\n",
       "    </tr>\n",
       "    <tr>\n",
       "      <th>2416</th>\n",
       "      <td>ž _ _ ž _ _ _ _ _</td>\n",
       "      <td>3</td>\n",
       "      <td>0</td>\n",
       "    </tr>\n",
       "  </tbody>\n",
       "</table>\n",
       "<p>2417 rows × 3 columns</p>\n",
       "</div>"
      ],
      "text/plain": [
       "                      pattern  words_count  worst_case_mistakes\n",
       "0                     a _ a _            6                    4\n",
       "1     a _ a _ _ _ _ a _ _ _ a            1                    0\n",
       "2                     a _ _ _           30                    5\n",
       "3               a _ _ _ _ _ _           80                    3\n",
       "4       a _ _ _ _ _ _ _ _ _ _           30                    1\n",
       "...                       ...          ...                  ...\n",
       "2412    ž _ ž _ _ _ _ _ _ _ _            3                    0\n",
       "2413        ž _ ž _ _ _ _ _ _            2                    0\n",
       "2414                ž _ _ ž _            1                    0\n",
       "2415            ž _ _ ž _ _ _            1                    0\n",
       "2416        ž _ _ ž _ _ _ _ _            3                    0\n",
       "\n",
       "[2417 rows x 3 columns]"
      ]
     },
     "execution_count": 120,
     "metadata": {},
     "output_type": "execute_result"
    }
   ],
   "source": [
    "strategies_info = pd.json_normalize(\n",
    "    [\n",
    "        {\"pattern\": \" \".join(key), \"words_count\": len(value[\"words\"]), \"worst_case_mistakes\": value[\"max_errors\"]}\n",
    "        for key, value in strategies.items()\n",
    "    ]\n",
    ")\n",
    "strategies_info"
   ]
  },
  {
   "cell_type": "markdown",
   "metadata": {},
   "source": [
    "S temi podatki o strategijah lahko odgovorimo na dve zelo zanimivi vprašanji: \n",
    "- Kdaj (če nimamo sreče) lahko pričakujemo da se bomo zmotili največkrat?\n",
    "- Kdaj lahko zmagamo brez da se zmotimo?"
   ]
  },
  {
   "cell_type": "code",
   "execution_count": 121,
   "metadata": {},
   "outputs": [
    {
     "data": {
      "text/html": [
       "<div>\n",
       "<style scoped>\n",
       "    .dataframe tbody tr th:only-of-type {\n",
       "        vertical-align: middle;\n",
       "    }\n",
       "\n",
       "    .dataframe tbody tr th {\n",
       "        vertical-align: top;\n",
       "    }\n",
       "\n",
       "    .dataframe thead th {\n",
       "        text-align: right;\n",
       "    }\n",
       "</style>\n",
       "<table border=\"1\" class=\"dataframe\">\n",
       "  <thead>\n",
       "    <tr style=\"text-align: right;\">\n",
       "      <th></th>\n",
       "      <th>pattern</th>\n",
       "      <th>words_count</th>\n",
       "      <th>worst_case_mistakes</th>\n",
       "    </tr>\n",
       "  </thead>\n",
       "  <tbody>\n",
       "    <tr>\n",
       "      <th>1023</th>\n",
       "      <td>k _ _ _</td>\n",
       "      <td>117</td>\n",
       "      <td>10</td>\n",
       "    </tr>\n",
       "    <tr>\n",
       "      <th>1159</th>\n",
       "      <td>l _ _</td>\n",
       "      <td>35</td>\n",
       "      <td>10</td>\n",
       "    </tr>\n",
       "  </tbody>\n",
       "</table>\n",
       "</div>"
      ],
      "text/plain": [
       "      pattern  words_count  worst_case_mistakes\n",
       "1023  k _ _ _          117                   10\n",
       "1159    l _ _           35                   10"
      ]
     },
     "execution_count": 121,
     "metadata": {},
     "output_type": "execute_result"
    }
   ],
   "source": [
    "worst = strategies_info[strategies_info[\"worst_case_mistakes\"] == strategies_info[\"worst_case_mistakes\"].max()]\n",
    "worst"
   ]
  },
  {
   "cell_type": "markdown",
   "metadata": {},
   "source": [
    "Iz zgornje tabele lahko vidimo da sta najslabša možna začetka \"k _ _ _\" in \"l _ _\". Gre za skupine relativno kratkih besed, kar je pričakovano, saj poznamo 1. črko, izmed ostalih 24 v abecedi pa moramo pravilno uganiti 2 ali 3. Če o besedah ne bi vedeli ničesar, bi lahko v takšnem primeru pričakovali 22 ali pa 21 napak. Zdaj vemo tudi, da če imamo na voljo vsaj 11 življenj, lahko igro vislic zmagamo vedno (pri postavljenih pravilih).\n",
    "\n",
    "Najboljših možnih začetkov je več. "
   ]
  },
  {
   "cell_type": "code",
   "execution_count": 122,
   "metadata": {},
   "outputs": [
    {
     "name": "stdout",
     "output_type": "stream",
     "text": [
      "Number of best possible starts: 1523\n",
      "Number of words that give a best possible start: 3272\n",
      "Number of starts where only one word is possible: 861\n"
     ]
    },
    {
     "data": {
      "text/html": [
       "<div>\n",
       "<style scoped>\n",
       "    .dataframe tbody tr th:only-of-type {\n",
       "        vertical-align: middle;\n",
       "    }\n",
       "\n",
       "    .dataframe tbody tr th {\n",
       "        vertical-align: top;\n",
       "    }\n",
       "\n",
       "    .dataframe thead th {\n",
       "        text-align: right;\n",
       "    }\n",
       "</style>\n",
       "<table border=\"1\" class=\"dataframe\">\n",
       "  <thead>\n",
       "    <tr style=\"text-align: right;\">\n",
       "      <th></th>\n",
       "      <th>index</th>\n",
       "      <th>pattern</th>\n",
       "      <th>words_count</th>\n",
       "      <th>worst_case_mistakes</th>\n",
       "    </tr>\n",
       "  </thead>\n",
       "  <tbody>\n",
       "    <tr>\n",
       "      <th>0</th>\n",
       "      <td>22</td>\n",
       "      <td>a _ _ _ _ _ _ _ _ _ _ _</td>\n",
       "      <td>20</td>\n",
       "      <td>0</td>\n",
       "    </tr>\n",
       "    <tr>\n",
       "      <th>1</th>\n",
       "      <td>30</td>\n",
       "      <td>a _ _ _ _ _ _ _ _ a _ _ _ a</td>\n",
       "      <td>7</td>\n",
       "      <td>0</td>\n",
       "    </tr>\n",
       "    <tr>\n",
       "      <th>2</th>\n",
       "      <td>32</td>\n",
       "      <td>a _ _ _ _ _ _ _ a _ _ _</td>\n",
       "      <td>7</td>\n",
       "      <td>0</td>\n",
       "    </tr>\n",
       "    <tr>\n",
       "      <th>3</th>\n",
       "      <td>35</td>\n",
       "      <td>a _ _ _ _ a _ _ _ _ _</td>\n",
       "      <td>13</td>\n",
       "      <td>0</td>\n",
       "    </tr>\n",
       "    <tr>\n",
       "      <th>4</th>\n",
       "      <td>36</td>\n",
       "      <td>a _ _ _ _ a _ _ _ _ _ _</td>\n",
       "      <td>2</td>\n",
       "      <td>0</td>\n",
       "    </tr>\n",
       "    <tr>\n",
       "      <th>...</th>\n",
       "      <td>...</td>\n",
       "      <td>...</td>\n",
       "      <td>...</td>\n",
       "      <td>...</td>\n",
       "    </tr>\n",
       "    <tr>\n",
       "      <th>657</th>\n",
       "      <td>2407</td>\n",
       "      <td>ž _ _ _ _ _ _ _ _ _ _ _ _ _ _</td>\n",
       "      <td>3</td>\n",
       "      <td>0</td>\n",
       "    </tr>\n",
       "    <tr>\n",
       "      <th>658</th>\n",
       "      <td>2410</td>\n",
       "      <td>ž _ ž _ _ _ _</td>\n",
       "      <td>2</td>\n",
       "      <td>0</td>\n",
       "    </tr>\n",
       "    <tr>\n",
       "      <th>659</th>\n",
       "      <td>2412</td>\n",
       "      <td>ž _ ž _ _ _ _ _ _ _ _</td>\n",
       "      <td>3</td>\n",
       "      <td>0</td>\n",
       "    </tr>\n",
       "    <tr>\n",
       "      <th>660</th>\n",
       "      <td>2413</td>\n",
       "      <td>ž _ ž _ _ _ _ _ _</td>\n",
       "      <td>2</td>\n",
       "      <td>0</td>\n",
       "    </tr>\n",
       "    <tr>\n",
       "      <th>661</th>\n",
       "      <td>2416</td>\n",
       "      <td>ž _ _ ž _ _ _ _ _</td>\n",
       "      <td>3</td>\n",
       "      <td>0</td>\n",
       "    </tr>\n",
       "  </tbody>\n",
       "</table>\n",
       "<p>662 rows × 4 columns</p>\n",
       "</div>"
      ],
      "text/plain": [
       "     index                        pattern  words_count  worst_case_mistakes\n",
       "0       22        a _ _ _ _ _ _ _ _ _ _ _           20                    0\n",
       "1       30    a _ _ _ _ _ _ _ _ a _ _ _ a            7                    0\n",
       "2       32        a _ _ _ _ _ _ _ a _ _ _            7                    0\n",
       "3       35          a _ _ _ _ a _ _ _ _ _           13                    0\n",
       "4       36        a _ _ _ _ a _ _ _ _ _ _            2                    0\n",
       "..     ...                            ...          ...                  ...\n",
       "657   2407  ž _ _ _ _ _ _ _ _ _ _ _ _ _ _            3                    0\n",
       "658   2410                  ž _ ž _ _ _ _            2                    0\n",
       "659   2412          ž _ ž _ _ _ _ _ _ _ _            3                    0\n",
       "660   2413              ž _ ž _ _ _ _ _ _            2                    0\n",
       "661   2416              ž _ _ ž _ _ _ _ _            3                    0\n",
       "\n",
       "[662 rows x 4 columns]"
      ]
     },
     "execution_count": 122,
     "metadata": {},
     "output_type": "execute_result"
    }
   ],
   "source": [
    "best = strategies_info[strategies_info[\"worst_case_mistakes\"] == strategies_info[\"worst_case_mistakes\"].min()]\n",
    "print(f\"Number of best possible starts: {len(best[\"words_count\"])}\")\n",
    "print(f\"Number of words that give a best possible start: {best[\"words_count\"].sum()}\")\n",
    "print(f\"Number of starts where only one word is possible: {len(best[best[\"words_count\"] == 1])}\")\n",
    "\n",
    "best[best[\"words_count\"] > 1].reset_index()"
   ]
  },
  {
   "cell_type": "markdown",
   "metadata": {},
   "source": [
    "Iz zgornje celice dobimo odgovor na drugo vprašanje. Brez da se zmotimo lahko zmagamo v 1523 primerih, od tega lahko v 861 primerih takoj uganemo besedo. Prej smo že ugotovili, da imamo pri izbranem seznamu 49909 besed 2417 možnih začetkov. Garantirano zmago nam da 3272 besed, ampak to ne pomeni, da je to število besed ki jih lahko uganemo brez napak. Z uporabo izračunane strategije pri vsakem začetku lahko nekatere besede ugotovimo brez napak. Izračunati čim več besed brez da kdaj zgrešimo črko ni bilo postavljeno merilo za optimalno strategijo, zato te statistike nima smisla vključiti v rezultate, saj bi lahko imeli drugo optimalno strategijo, ki bi dala drugačne rezultate.\n",
    "\n",
    "### Slabi začetki\n",
    "Zdaj že vemo kakšna sta najslabša možna začetka. Če igramo vislice proti nekomu in smo mi izbrali besedo, nam pa to še ne pomaga preveč. Zanima nas, katere besede si moramo izbrati, da bo naš nasprotnik najbolj trpel, tudi če je robot in igra optimalno."
   ]
  },
  {
   "cell_type": "code",
   "execution_count": 123,
   "metadata": {},
   "outputs": [
    {
     "name": "stdout",
     "output_type": "stream",
     "text": [
      "['laj', 'lak', 'lan', 'lar', 'las', 'lat', 'laz', 'laž', 'led', 'lej', 'lek', 'lep', 'les', 'leš', 'let', 'lev', 'lij', 'lik', 'lim', 'liv', 'lob', 'loč', 'log', 'loj', 'lok', 'lom', 'lon', 'los', 'lot', 'lov', 'lož', 'lub', 'luč', 'lug', 'luk']\n",
      "['kača', 'kadi', 'kaja', 'kala', 'kalo', 'kamp', 'kana', 'kanu', 'kaos', 'kapa', 'kapo', 'kare', 'karo', 'karp', 'kart', 'kasa', 'kaša', 'kava', 'kavč', 'kavs', 'keha', 'kela', 'kepa', 'kila', 'kilt', 'kinč', 'kino', 'kist', 'kita', 'kivi', 'klan', 'klas', 'kleč', 'klej', 'klen', 'klep', 'kler', 'klet', 'klic', 'klin', 'klob', 'klon', 'klop', 'klor', 'klot', 'klub', 'kmet', 'knap', 'knez', 'knof', 'koca', 'koča', 'koda', 'kofe', 'koja', 'kola', 'kolc', 'kolč', 'kolo', 'kolt', 'koma', 'komi', 'konj', 'kopa', 'kord', 'korm', 'kosa', 'kost', 'kota', 'koza', 'koža', 'krah', 'kraj', 'krap', 'kras', 'krat', 'kreč', 'kreg', 'krep', 'kres', 'krez', 'krič', 'križ', 'krlj', 'krma', 'krof', 'krog', 'kroj', 'krom', 'krop', 'kros', 'krov', 'krpa', 'krst', 'kruc', 'kruh', 'krup', 'kuba', 'kudu', 'kuga', 'kuha', 'kula', 'kuli', 'kult', 'kuma', 'kump', 'kuna', 'kupa', 'kupe', 'kura', 'kurz', 'kuta', 'kuža', 'kuže', 'kvar', 'kvas', 'kviz']\n"
     ]
    }
   ],
   "source": [
    "worst_words1 = strategies[\"l__\"][\"words\"]\n",
    "print(worst_words1)\n",
    "worst_words2 = strategies[\"k___\"][\"words\"]\n",
    "print(worst_words2)"
   ]
  },
  {
   "cell_type": "markdown",
   "metadata": {},
   "source": [
    "Niso pa vse te besede najzlobnejša izbira. Natančno si poglejmo zakaj in katere izmed teh besed se splača izbrati."
   ]
  },
  {
   "cell_type": "code",
   "execution_count": 124,
   "metadata": {},
   "outputs": [
    {
     "data": {
      "text/html": [
       "<div>\n",
       "<style scoped>\n",
       "    .dataframe tbody tr th:only-of-type {\n",
       "        vertical-align: middle;\n",
       "    }\n",
       "\n",
       "    .dataframe tbody tr th {\n",
       "        vertical-align: top;\n",
       "    }\n",
       "\n",
       "    .dataframe thead th {\n",
       "        text-align: right;\n",
       "    }\n",
       "</style>\n",
       "<table border=\"1\" class=\"dataframe\">\n",
       "  <thead>\n",
       "    <tr style=\"text-align: right;\">\n",
       "      <th></th>\n",
       "      <th>a</th>\n",
       "      <th>e</th>\n",
       "      <th>i</th>\n",
       "      <th>o</th>\n",
       "      <th>u</th>\n",
       "    </tr>\n",
       "  </thead>\n",
       "  <tbody>\n",
       "    <tr>\n",
       "      <th>0</th>\n",
       "      <td>laj</td>\n",
       "      <td>led</td>\n",
       "      <td>lij</td>\n",
       "      <td>lob</td>\n",
       "      <td>lub</td>\n",
       "    </tr>\n",
       "    <tr>\n",
       "      <th>1</th>\n",
       "      <td>lak</td>\n",
       "      <td>lej</td>\n",
       "      <td>lik</td>\n",
       "      <td>loč</td>\n",
       "      <td>luč</td>\n",
       "    </tr>\n",
       "    <tr>\n",
       "      <th>2</th>\n",
       "      <td>lan</td>\n",
       "      <td>lek</td>\n",
       "      <td>lim</td>\n",
       "      <td>log</td>\n",
       "      <td>lug</td>\n",
       "    </tr>\n",
       "    <tr>\n",
       "      <th>3</th>\n",
       "      <td>lar</td>\n",
       "      <td>lep</td>\n",
       "      <td>liv</td>\n",
       "      <td>loj</td>\n",
       "      <td>luk</td>\n",
       "    </tr>\n",
       "    <tr>\n",
       "      <th>4</th>\n",
       "      <td>las</td>\n",
       "      <td>les</td>\n",
       "      <td></td>\n",
       "      <td>lok</td>\n",
       "      <td></td>\n",
       "    </tr>\n",
       "    <tr>\n",
       "      <th>5</th>\n",
       "      <td>lat</td>\n",
       "      <td>leš</td>\n",
       "      <td></td>\n",
       "      <td>lom</td>\n",
       "      <td></td>\n",
       "    </tr>\n",
       "    <tr>\n",
       "      <th>6</th>\n",
       "      <td>laz</td>\n",
       "      <td>let</td>\n",
       "      <td></td>\n",
       "      <td>lon</td>\n",
       "      <td></td>\n",
       "    </tr>\n",
       "    <tr>\n",
       "      <th>7</th>\n",
       "      <td>laž</td>\n",
       "      <td>lev</td>\n",
       "      <td></td>\n",
       "      <td>los</td>\n",
       "      <td></td>\n",
       "    </tr>\n",
       "    <tr>\n",
       "      <th>8</th>\n",
       "      <td></td>\n",
       "      <td></td>\n",
       "      <td></td>\n",
       "      <td>lot</td>\n",
       "      <td></td>\n",
       "    </tr>\n",
       "    <tr>\n",
       "      <th>9</th>\n",
       "      <td></td>\n",
       "      <td></td>\n",
       "      <td></td>\n",
       "      <td>lov</td>\n",
       "      <td></td>\n",
       "    </tr>\n",
       "    <tr>\n",
       "      <th>10</th>\n",
       "      <td></td>\n",
       "      <td></td>\n",
       "      <td></td>\n",
       "      <td>lož</td>\n",
       "      <td></td>\n",
       "    </tr>\n",
       "  </tbody>\n",
       "</table>\n",
       "</div>"
      ],
      "text/plain": [
       "      a    e    i    o    u\n",
       "0   laj  led  lij  lob  lub\n",
       "1   lak  lej  lik  loč  luč\n",
       "2   lan  lek  lim  log  lug\n",
       "3   lar  lep  liv  loj  luk\n",
       "4   las  les       lok     \n",
       "5   lat  leš       lom     \n",
       "6   laz  let       lon     \n",
       "7   laž  lev       los     \n",
       "8                  lot     \n",
       "9                  lov     \n",
       "10                 lož     "
      ]
     },
     "execution_count": 124,
     "metadata": {},
     "output_type": "execute_result"
    }
   ],
   "source": [
    "def group_by_letter(words, letter_indices):\n",
    "    groups = pd.DataFrame(words).groupby(lambda i: tuple(words[i][j] for j in letter_indices)).groups\n",
    "    maxlen = max(map(len, groups.values()))\n",
    "    return pd.DataFrame(\n",
    "        ([words[group.values[i]] if len(group.values) > i else \"\" for group in groups.values()] for i in range(maxlen)),\n",
    "        columns=map(\" \".join, groups.keys()),\n",
    "    )\n",
    "\n",
    "\n",
    "group_by_letter(worst_words1, letter_indices=(1,))"
   ]
  },
  {
   "cell_type": "code",
   "execution_count": 125,
   "metadata": {},
   "outputs": [
    {
     "data": {
      "text/html": [
       "<div>\n",
       "<style scoped>\n",
       "    .dataframe tbody tr th:only-of-type {\n",
       "        vertical-align: middle;\n",
       "    }\n",
       "\n",
       "    .dataframe tbody tr th {\n",
       "        vertical-align: top;\n",
       "    }\n",
       "\n",
       "    .dataframe thead th {\n",
       "        text-align: right;\n",
       "    }\n",
       "</style>\n",
       "<table border=\"1\" class=\"dataframe\">\n",
       "  <thead>\n",
       "    <tr style=\"text-align: right;\">\n",
       "      <th></th>\n",
       "      <th>a a</th>\n",
       "      <th>a o</th>\n",
       "      <th>e a</th>\n",
       "      <th>l n</th>\n",
       "      <th>o a</th>\n",
       "      <th>r j</th>\n",
       "      <th>r p</th>\n",
       "      <th>r s</th>\n",
       "      <th>u a</th>\n",
       "    </tr>\n",
       "  </thead>\n",
       "  <tbody>\n",
       "    <tr>\n",
       "      <th>0</th>\n",
       "      <td>kača</td>\n",
       "      <td>kalo</td>\n",
       "      <td>keha</td>\n",
       "      <td>klan</td>\n",
       "      <td>koca</td>\n",
       "      <td>kraj</td>\n",
       "      <td>krap</td>\n",
       "      <td>kras</td>\n",
       "      <td>kuba</td>\n",
       "    </tr>\n",
       "    <tr>\n",
       "      <th>1</th>\n",
       "      <td>kaja</td>\n",
       "      <td>kapo</td>\n",
       "      <td>kela</td>\n",
       "      <td>klen</td>\n",
       "      <td>koča</td>\n",
       "      <td>krlj</td>\n",
       "      <td>krep</td>\n",
       "      <td>kres</td>\n",
       "      <td>kuga</td>\n",
       "    </tr>\n",
       "    <tr>\n",
       "      <th>2</th>\n",
       "      <td>kala</td>\n",
       "      <td>karo</td>\n",
       "      <td>kepa</td>\n",
       "      <td>klin</td>\n",
       "      <td>koda</td>\n",
       "      <td>kroj</td>\n",
       "      <td>krop</td>\n",
       "      <td>kros</td>\n",
       "      <td>kuha</td>\n",
       "    </tr>\n",
       "    <tr>\n",
       "      <th>3</th>\n",
       "      <td>kana</td>\n",
       "      <td></td>\n",
       "      <td></td>\n",
       "      <td>klon</td>\n",
       "      <td>koja</td>\n",
       "      <td></td>\n",
       "      <td>krup</td>\n",
       "      <td></td>\n",
       "      <td>kula</td>\n",
       "    </tr>\n",
       "    <tr>\n",
       "      <th>4</th>\n",
       "      <td>kapa</td>\n",
       "      <td></td>\n",
       "      <td></td>\n",
       "      <td></td>\n",
       "      <td>kola</td>\n",
       "      <td></td>\n",
       "      <td></td>\n",
       "      <td></td>\n",
       "      <td>kuma</td>\n",
       "    </tr>\n",
       "    <tr>\n",
       "      <th>5</th>\n",
       "      <td>kasa</td>\n",
       "      <td></td>\n",
       "      <td></td>\n",
       "      <td></td>\n",
       "      <td>koma</td>\n",
       "      <td></td>\n",
       "      <td></td>\n",
       "      <td></td>\n",
       "      <td>kuna</td>\n",
       "    </tr>\n",
       "    <tr>\n",
       "      <th>6</th>\n",
       "      <td>kaša</td>\n",
       "      <td></td>\n",
       "      <td></td>\n",
       "      <td></td>\n",
       "      <td>kopa</td>\n",
       "      <td></td>\n",
       "      <td></td>\n",
       "      <td></td>\n",
       "      <td>kupa</td>\n",
       "    </tr>\n",
       "    <tr>\n",
       "      <th>7</th>\n",
       "      <td>kava</td>\n",
       "      <td></td>\n",
       "      <td></td>\n",
       "      <td></td>\n",
       "      <td>kosa</td>\n",
       "      <td></td>\n",
       "      <td></td>\n",
       "      <td></td>\n",
       "      <td>kura</td>\n",
       "    </tr>\n",
       "    <tr>\n",
       "      <th>8</th>\n",
       "      <td></td>\n",
       "      <td></td>\n",
       "      <td></td>\n",
       "      <td></td>\n",
       "      <td>kota</td>\n",
       "      <td></td>\n",
       "      <td></td>\n",
       "      <td></td>\n",
       "      <td>kuta</td>\n",
       "    </tr>\n",
       "    <tr>\n",
       "      <th>9</th>\n",
       "      <td></td>\n",
       "      <td></td>\n",
       "      <td></td>\n",
       "      <td></td>\n",
       "      <td>koza</td>\n",
       "      <td></td>\n",
       "      <td></td>\n",
       "      <td></td>\n",
       "      <td>kuža</td>\n",
       "    </tr>\n",
       "    <tr>\n",
       "      <th>10</th>\n",
       "      <td></td>\n",
       "      <td></td>\n",
       "      <td></td>\n",
       "      <td></td>\n",
       "      <td>koža</td>\n",
       "      <td></td>\n",
       "      <td></td>\n",
       "      <td></td>\n",
       "      <td></td>\n",
       "    </tr>\n",
       "  </tbody>\n",
       "</table>\n",
       "</div>"
      ],
      "text/plain": [
       "     a a   a o   e a   l n   o a   r j   r p   r s   u a\n",
       "0   kača  kalo  keha  klan  koca  kraj  krap  kras  kuba\n",
       "1   kaja  kapo  kela  klen  koča  krlj  krep  kres  kuga\n",
       "2   kala  karo  kepa  klin  koda  kroj  krop  kros  kuha\n",
       "3   kana              klon  koja        krup        kula\n",
       "4   kapa                    kola                    kuma\n",
       "5   kasa                    koma                    kuna\n",
       "6   kaša                    kopa                    kupa\n",
       "7   kava                    kosa                    kura\n",
       "8                           kota                    kuta\n",
       "9                           koza                    kuža\n",
       "10                          koža                        "
      ]
     },
     "execution_count": 125,
     "metadata": {},
     "output_type": "execute_result"
    }
   ],
   "source": [
    "df = group_by_letter(worst_words2, letter_indices=(1, 3))\n",
    "df.loc[:, df.iloc[2] != \"\"]  # Too many columns, select only those with at least 3 words."
   ]
  },
  {
   "cell_type": "markdown",
   "metadata": {},
   "source": [
    "S tako zapisanimi besedami je precej očitno zakaj v tej skupini ne moremo v najslabšem primeru porabiti manj kot 10 poskusov. V prvi tabeli so zares najslabše besede besede v stolpcu \"o\" - tiste, ki se začnejo na \"lo\", v drugi tabeli pa besede v stolpcu \"oa\". Tema seznamoma besed je skupno, da imata 11 različnih besed, ki se razlikujejo le v eni črki na enem mestu. V najslabšem primeru se bomo 10-krat zmotili in glede tega ne moremo storiti ničesar."
   ]
  }
 ],
 "metadata": {
  "kernelspec": {
   "display_name": "venv",
   "language": "python",
   "name": "python3"
  },
  "language_info": {
   "codemirror_mode": {
    "name": "ipython",
    "version": 3
   },
   "file_extension": ".py",
   "mimetype": "text/x-python",
   "name": "python",
   "nbconvert_exporter": "python",
   "pygments_lexer": "ipython3",
   "version": "3.12.0"
  }
 },
 "nbformat": 4,
 "nbformat_minor": 2
}
